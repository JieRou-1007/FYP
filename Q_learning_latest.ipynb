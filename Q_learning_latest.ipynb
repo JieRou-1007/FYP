{
  "nbformat": 4,
  "nbformat_minor": 0,
  "metadata": {
    "colab": {
      "name": "Q-learning latest.ipynb",
      "provenance": [],
      "authorship_tag": "ABX9TyMPBvmU1wkmynWgD6TacdbE",
      "include_colab_link": true
    },
    "kernelspec": {
      "name": "python3",
      "display_name": "Python 3"
    }
  },
  "cells": [
    {
      "cell_type": "markdown",
      "metadata": {
        "id": "view-in-github",
        "colab_type": "text"
      },
      "source": [
        "<a href=\"https://colab.research.google.com/github/JieRou-1007/FYP/blob/master/Q_learning_latest.ipynb\" target=\"_parent\"><img src=\"https://colab.research.google.com/assets/colab-badge.svg\" alt=\"Open In Colab\"/></a>"
      ]
    },
    {
      "cell_type": "code",
      "metadata": {
        "colab": {
          "base_uri": "https://localhost:8080/"
        },
        "id": "DD3nf3NEkvsh",
        "outputId": "d60ff392-18e0-4d82-91ae-582ea0b8a1df"
      },
      "source": [
        "!pip install cmake 'gym[atari]' scipy\r\n"
      ],
      "execution_count": 2,
      "outputs": [
        {
          "output_type": "stream",
          "text": [
            "Requirement already satisfied: cmake in /usr/local/lib/python3.6/dist-packages (3.12.0)\n",
            "Requirement already satisfied: gym[atari] in /usr/local/lib/python3.6/dist-packages (0.17.3)\n",
            "Requirement already satisfied: scipy in /usr/local/lib/python3.6/dist-packages (1.4.1)\n",
            "Requirement already satisfied: numpy>=1.10.4 in /usr/local/lib/python3.6/dist-packages (from gym[atari]) (1.19.5)\n",
            "Requirement already satisfied: cloudpickle<1.7.0,>=1.2.0 in /usr/local/lib/python3.6/dist-packages (from gym[atari]) (1.3.0)\n",
            "Requirement already satisfied: pyglet<=1.5.0,>=1.4.0 in /usr/local/lib/python3.6/dist-packages (from gym[atari]) (1.5.0)\n",
            "Requirement already satisfied: Pillow; extra == \"atari\" in /usr/local/lib/python3.6/dist-packages (from gym[atari]) (7.0.0)\n",
            "Requirement already satisfied: opencv-python; extra == \"atari\" in /usr/local/lib/python3.6/dist-packages (from gym[atari]) (4.1.2.30)\n",
            "Requirement already satisfied: atari-py~=0.2.0; extra == \"atari\" in /usr/local/lib/python3.6/dist-packages (from gym[atari]) (0.2.6)\n",
            "Requirement already satisfied: future in /usr/local/lib/python3.6/dist-packages (from pyglet<=1.5.0,>=1.4.0->gym[atari]) (0.16.0)\n",
            "Requirement already satisfied: six in /usr/local/lib/python3.6/dist-packages (from atari-py~=0.2.0; extra == \"atari\"->gym[atari]) (1.15.0)\n"
          ],
          "name": "stdout"
        }
      ]
    },
    {
      "cell_type": "code",
      "metadata": {
        "colab": {
          "base_uri": "https://localhost:8080/"
        },
        "id": "cZ_XFc24kxEQ",
        "outputId": "263923ac-b76c-4b27-ae10-e38f19f23c34"
      },
      "source": [
        "import gym\r\n",
        "\r\n",
        "env = gym.make(\"Taxi-v3\").env\r\n",
        "\r\n",
        "env.render()"
      ],
      "execution_count": 4,
      "outputs": [
        {
          "output_type": "stream",
          "text": [
            "+---------+\n",
            "|\u001b[35mR\u001b[0m: | : :G|\n",
            "| :\u001b[43m \u001b[0m| : : |\n",
            "| : : : : |\n",
            "| | : | : |\n",
            "|\u001b[34;1mY\u001b[0m| : |B: |\n",
            "+---------+\n",
            "\n"
          ],
          "name": "stdout"
        }
      ]
    },
    {
      "cell_type": "code",
      "metadata": {
        "colab": {
          "base_uri": "https://localhost:8080/"
        },
        "id": "6FrgzZu4k5B2",
        "outputId": "a07ac4e8-775e-41c8-ff46-90f82e8b1446"
      },
      "source": [
        "env.reset() # reset environment to a new, random state\r\n",
        "env.render()\r\n",
        "\r\n",
        "print(\"Action Space {}\".format(env.action_space))\r\n",
        "print(\"State Space {}\".format(env.observation_space))"
      ],
      "execution_count": 5,
      "outputs": [
        {
          "output_type": "stream",
          "text": [
            "+---------+\n",
            "|R: | : :\u001b[35mG\u001b[0m|\n",
            "| : | : : |\n",
            "|\u001b[43m \u001b[0m: : : : |\n",
            "| | : | : |\n",
            "|\u001b[34;1mY\u001b[0m| : |B: |\n",
            "+---------+\n",
            "\n",
            "Action Space Discrete(6)\n",
            "State Space Discrete(500)\n"
          ],
          "name": "stdout"
        }
      ]
    },
    {
      "cell_type": "code",
      "metadata": {
        "colab": {
          "base_uri": "https://localhost:8080/"
        },
        "id": "Kg7JxThYk7e-",
        "outputId": "c4abd8c8-a85e-42fc-e768-07eabbd128bf"
      },
      "source": [
        "state = env.encode(3, 1, 2, 0) # (taxi row, taxi column, passenger index, destination index)\r\n",
        "print(\"State:\", state)\r\n",
        "\r\n",
        "env.s = state\r\n",
        "env.render()"
      ],
      "execution_count": 6,
      "outputs": [
        {
          "output_type": "stream",
          "text": [
            "State: 328\n",
            "+---------+\n",
            "|\u001b[35mR\u001b[0m: | : :G|\n",
            "| : | : : |\n",
            "| : : : : |\n",
            "| |\u001b[43m \u001b[0m: | : |\n",
            "|\u001b[34;1mY\u001b[0m| : |B: |\n",
            "+---------+\n",
            "\n"
          ],
          "name": "stdout"
        }
      ]
    },
    {
      "cell_type": "code",
      "metadata": {
        "colab": {
          "base_uri": "https://localhost:8080/"
        },
        "id": "ypVngmnsk-6u",
        "outputId": "d1134ae5-1d5a-4dbc-b6ab-71311aa9d8df"
      },
      "source": [
        "env.P[328]\r\n"
      ],
      "execution_count": 7,
      "outputs": [
        {
          "output_type": "execute_result",
          "data": {
            "text/plain": [
              "{0: [(1.0, 428, -1, False)],\n",
              " 1: [(1.0, 228, -1, False)],\n",
              " 2: [(1.0, 348, -1, False)],\n",
              " 3: [(1.0, 328, -1, False)],\n",
              " 4: [(1.0, 328, -10, False)],\n",
              " 5: [(1.0, 328, -10, False)]}"
            ]
          },
          "metadata": {
            "tags": []
          },
          "execution_count": 7
        }
      ]
    },
    {
      "cell_type": "code",
      "metadata": {
        "id": "4SuHiYZikgnw"
      },
      "source": [
        "import numpy as np\r\n",
        "q_table = np.zeros([env.observation_space.n, env.action_space.n])"
      ],
      "execution_count": 8,
      "outputs": []
    },
    {
      "cell_type": "code",
      "metadata": {
        "colab": {
          "base_uri": "https://localhost:8080/"
        },
        "id": "6e_3iMsAknrq",
        "outputId": "012ce269-babe-4e3f-8f36-80e7d941d01d"
      },
      "source": [
        "%%time\r\n",
        "\"\"\"Training the agent\"\"\"\r\n",
        "\r\n",
        "import random\r\n",
        "from IPython.display import clear_output\r\n",
        "\r\n",
        "# Hyperparameters\r\n",
        "alpha = 0.1\r\n",
        "gamma = 0.6\r\n",
        "epsilon = 0.1\r\n",
        "\r\n",
        "# For plotting metrics\r\n",
        "all_epochs = []\r\n",
        "all_penalties = []\r\n",
        "\r\n",
        "for i in range(1, 100001):\r\n",
        "    state = env.reset()\r\n",
        "\r\n",
        "    epochs, penalties, reward, = 0, 0, 0\r\n",
        "    done = False\r\n",
        "    \r\n",
        "    while not done:\r\n",
        "        if random.uniform(0, 1) < epsilon:\r\n",
        "            action = env.action_space.sample() # Explore action space\r\n",
        "        else:\r\n",
        "            action = np.argmax(q_table[state]) # Exploit learned values\r\n",
        "\r\n",
        "        next_state, reward, done, info = env.step(action) \r\n",
        "        \r\n",
        "        old_value = q_table[state, action]\r\n",
        "        next_max = np.max(q_table[next_state])\r\n",
        "        \r\n",
        "        new_value = (1 - alpha) * old_value + alpha * (reward + gamma * next_max)\r\n",
        "        q_table[state, action] = new_value\r\n",
        "\r\n",
        "        if reward == -10:\r\n",
        "            penalties += 1\r\n",
        "\r\n",
        "        state = next_state\r\n",
        "        epochs += 1\r\n",
        "        \r\n",
        "    if i % 100 == 0:\r\n",
        "        clear_output(wait=True)\r\n",
        "        print(f\"Episode: {i}\")\r\n",
        "\r\n",
        "print(\"Training finished.\\n\")"
      ],
      "execution_count": 9,
      "outputs": [
        {
          "output_type": "stream",
          "text": [
            "Episode: 100000\n",
            "Training finished.\n",
            "\n",
            "CPU times: user 1min, sys: 10.1 s, total: 1min 10s\n",
            "Wall time: 1min 1s\n"
          ],
          "name": "stdout"
        }
      ]
    },
    {
      "cell_type": "code",
      "metadata": {
        "colab": {
          "base_uri": "https://localhost:8080/"
        },
        "id": "D-1h43nolHPF",
        "outputId": "b9534854-2bb3-4300-be8c-717d065d7ed2"
      },
      "source": [
        "q_table[328]\r\n"
      ],
      "execution_count": 10,
      "outputs": [
        {
          "output_type": "execute_result",
          "data": {
            "text/plain": [
              "array([ -2.39199744,  -2.27325184,  -2.4064351 ,  -2.35932839,\n",
              "       -10.86821151, -10.8604752 ])"
            ]
          },
          "metadata": {
            "tags": []
          },
          "execution_count": 10
        }
      ]
    },
    {
      "cell_type": "code",
      "metadata": {
        "colab": {
          "base_uri": "https://localhost:8080/"
        },
        "id": "Ba4ExghZlHji",
        "outputId": "9f3ecf2e-233f-4070-af8c-6a5445911fe8"
      },
      "source": [
        "\"\"\"Evaluate agent's performance after Q-learning\"\"\"\r\n",
        "\r\n",
        "total_epochs, total_penalties = 0, 0\r\n",
        "episodes = 100\r\n",
        "\r\n",
        "for _ in range(episodes):\r\n",
        "    state = env.reset()\r\n",
        "    epochs, penalties, reward = 0, 0, 0\r\n",
        "    \r\n",
        "    done = False\r\n",
        "    \r\n",
        "    while not done:\r\n",
        "        action = np.argmax(q_table[state])\r\n",
        "        state, reward, done, info = env.step(action)\r\n",
        "\r\n",
        "        if reward == -10:\r\n",
        "            penalties += 1\r\n",
        "\r\n",
        "        epochs += 1\r\n",
        "\r\n",
        "    total_penalties += penalties\r\n",
        "    total_epochs += epochs\r\n",
        "\r\n",
        "print(f\"Results after {episodes} episodes:\")\r\n",
        "print(f\"Average timesteps per episode: {total_epochs / episodes}\")\r\n",
        "print(f\"Average penalties per episode: {total_penalties / episodes}\")"
      ],
      "execution_count": 11,
      "outputs": [
        {
          "output_type": "stream",
          "text": [
            "Results after 100 episodes:\n",
            "Average timesteps per episode: 12.81\n",
            "Average penalties per episode: 0.0\n"
          ],
          "name": "stdout"
        }
      ]
    }
  ]
}