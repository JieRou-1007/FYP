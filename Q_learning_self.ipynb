{
  "nbformat": 4,
  "nbformat_minor": 0,
  "metadata": {
    "colab": {
      "name": "Q-learning self.ipynb",
      "provenance": [],
      "collapsed_sections": [],
      "authorship_tag": "ABX9TyN2RYm/a+rRqlBBvXJgkJxk",
      "include_colab_link": true
    },
    "kernelspec": {
      "name": "python3",
      "display_name": "Python 3"
    }
  },
  "cells": [
    {
      "cell_type": "markdown",
      "metadata": {
        "id": "view-in-github",
        "colab_type": "text"
      },
      "source": [
        "<a href=\"https://colab.research.google.com/github/JieRou-1007/FYP/blob/master/Q_learning_self.ipynb\" target=\"_parent\"><img src=\"https://colab.research.google.com/assets/colab-badge.svg\" alt=\"Open In Colab\"/></a>"
      ]
    },
    {
      "cell_type": "code",
      "metadata": {
        "id": "ginoWK6PnebU"
      },
      "source": [
        "import gym\r\n",
        "import numpy as np\r\n",
        "import random\r\n",
        "\r\n",
        "class TicTacToeEnv(gym.Env):\r\n",
        "  def __init_(self):\r\n",
        "    self.done = False\r\n",
        "    self.observation = np.zeros([9,1])\r\n",
        "\r\n",
        "  def step(self, action):\r\n",
        "        #1. Update the environment state based on the action chosen\r\n",
        "        #2. Calculate the \"reward\" for the new state\r\n",
        "        #3. Store the new \"observation\" for the state\r\n",
        "        #4. Check if the episode is over and store as \"done\"\r\n",
        "        return self.observation, reward, self.done\r\n",
        "  \r\n",
        "  def reset(self):\r\n",
        "        \r\n",
        "        self.done = False\r\n",
        "        self.observation = np.zeros([9, 1])\r\n",
        "        \r\n",
        "        return self.observation\r\n",
        "\r\n",
        "  def render(self):\r\n",
        "        \r\n",
        "        def letter(number):\r\n",
        "        \r\n",
        "            if number == 0:\r\n",
        "                mark = \" \"\r\n",
        "            elif number < 0:\r\n",
        "                    mark = \"O\"\r\n",
        "            elif number > 0:\r\n",
        "                    mark = \"X\"\r\n",
        "                \r\n",
        "            return mark\r\n",
        "        \r\n",
        "        print(f'   |   |   ')\r\n",
        "        print(f' {letter(self.observation[0, 0])} |{letter(self.observation[1, 0])} | {letter(self.observation[2, 0])} ')\r\n",
        "        print(f'___|___|___')\r\n",
        "        print(f'   |   |   ')\r\n",
        "        print(f' {letter(self.observation[3, 0])} | {letter(self.observation[4, 0])} | {letter(self.observation[5, 0])} ')\r\n",
        "        print(f'___|___|___')\r\n",
        "        print(f'   |   |   ')\r\n",
        "        print(f' {letter(self.observation[6, 0])} | {letter(self.observation[7, 0])} | {letter(self.observation[8, 0])} ')\r\n",
        "        print(f'   |   |   \\n')\r\n"
      ],
      "execution_count": 5,
      "outputs": []
    }
  ]
}